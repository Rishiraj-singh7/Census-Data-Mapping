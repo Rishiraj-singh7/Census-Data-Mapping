{
 "cells": [
  {
   "cell_type": "markdown",
   "metadata": {},
   "source": [
    "The libraries"
   ]
  },
  {
   "cell_type": "code",
   "execution_count": 2,
   "metadata": {},
   "outputs": [],
   "source": [
    "# to read and visualize spatial data\n",
    "import geopandas as gpd\n",
    "\n",
    "# to provide basemaps \n",
    "import contextily as ctx\n",
    "\n",
    "# to give more power to your figures (plots)\n",
    "import matplotlib.pyplot as plt"
   ]
  },
  {
   "cell_type": "markdown",
   "metadata": {},
   "source": [
    "Importing data"
   ]
  },
  {
   "cell_type": "code",
   "execution_count": 5,
   "metadata": {},
   "outputs": [],
   "source": [
    "# load a data file\n",
    "# note the relative filepath! where is this file located?\n",
    "gdf = gpd.read_file('acs2020_5yr_B03002_14000US06037463000.geojson')"
   ]
  },
  {
   "cell_type": "markdown",
   "metadata": {},
   "source": [
    "#  Preliminary inspection"
   ]
  },
  {
   "cell_type": "markdown",
   "metadata": {},
   "source": [
    "A quick look at the size of the data."
   ]
  },
  {
   "cell_type": "code",
   "execution_count": 6,
   "metadata": {},
   "outputs": [
    {
     "data": {
      "text/plain": [
       "(2499, 45)"
      ]
     },
     "execution_count": 6,
     "metadata": {},
     "output_type": "execute_result"
    }
   ],
   "source": [
    "# get number of rows, columns\n",
    "gdf.shape"
   ]
  },
  {
   "cell_type": "code",
   "execution_count": 7,
   "metadata": {},
   "outputs": [
    {
     "data": {
      "text/html": [
       "<div>\n",
       "<style scoped>\n",
       "    .dataframe tbody tr th:only-of-type {\n",
       "        vertical-align: middle;\n",
       "    }\n",
       "\n",
       "    .dataframe tbody tr th {\n",
       "        vertical-align: top;\n",
       "    }\n",
       "\n",
       "    .dataframe thead th {\n",
       "        text-align: right;\n",
       "    }\n",
       "</style>\n",
       "<table border=\"1\" class=\"dataframe\">\n",
       "  <thead>\n",
       "    <tr style=\"text-align: right;\">\n",
       "      <th></th>\n",
       "      <th>geoid</th>\n",
       "      <th>name</th>\n",
       "      <th>B03002001</th>\n",
       "      <th>B03002001, Error</th>\n",
       "      <th>B03002002</th>\n",
       "      <th>B03002002, Error</th>\n",
       "      <th>B03002003</th>\n",
       "      <th>B03002003, Error</th>\n",
       "      <th>B03002004</th>\n",
       "      <th>B03002004, Error</th>\n",
       "      <th>...</th>\n",
       "      <th>B03002017, Error</th>\n",
       "      <th>B03002018</th>\n",
       "      <th>B03002018, Error</th>\n",
       "      <th>B03002019</th>\n",
       "      <th>B03002019, Error</th>\n",
       "      <th>B03002020</th>\n",
       "      <th>B03002020, Error</th>\n",
       "      <th>B03002021</th>\n",
       "      <th>B03002021, Error</th>\n",
       "      <th>geometry</th>\n",
       "    </tr>\n",
       "  </thead>\n",
       "  <tbody>\n",
       "    <tr>\n",
       "      <th>0</th>\n",
       "      <td>05000US06037</td>\n",
       "      <td>Los Angeles County, CA</td>\n",
       "      <td>10040682.0</td>\n",
       "      <td>0.0</td>\n",
       "      <td>5189338.0</td>\n",
       "      <td>0.0</td>\n",
       "      <td>2603280.0</td>\n",
       "      <td>2899.0</td>\n",
       "      <td>779166.0</td>\n",
       "      <td>3477.0</td>\n",
       "      <td>...</td>\n",
       "      <td>529.0</td>\n",
       "      <td>2075359.0</td>\n",
       "      <td>16947.0</td>\n",
       "      <td>470323.0</td>\n",
       "      <td>9898.0</td>\n",
       "      <td>387116.0</td>\n",
       "      <td>9699.0</td>\n",
       "      <td>83207.0</td>\n",
       "      <td>3161.0</td>\n",
       "      <td>MULTIPOLYGON (((-118.70339 34.16859, -118.7033...</td>\n",
       "    </tr>\n",
       "    <tr>\n",
       "      <th>1</th>\n",
       "      <td>14000US06037101110</td>\n",
       "      <td>Census Tract 1011.10, Los Angeles, CA</td>\n",
       "      <td>3923.0</td>\n",
       "      <td>460.0</td>\n",
       "      <td>2960.0</td>\n",
       "      <td>376.0</td>\n",
       "      <td>2393.0</td>\n",
       "      <td>353.0</td>\n",
       "      <td>17.0</td>\n",
       "      <td>18.0</td>\n",
       "      <td>...</td>\n",
       "      <td>13.0</td>\n",
       "      <td>260.0</td>\n",
       "      <td>219.0</td>\n",
       "      <td>150.0</td>\n",
       "      <td>129.0</td>\n",
       "      <td>124.0</td>\n",
       "      <td>118.0</td>\n",
       "      <td>26.0</td>\n",
       "      <td>42.0</td>\n",
       "      <td>MULTIPOLYGON (((-118.30229 34.25870, -118.3009...</td>\n",
       "    </tr>\n",
       "    <tr>\n",
       "      <th>2</th>\n",
       "      <td>14000US06037101122</td>\n",
       "      <td>Census Tract 1011.22, Los Angeles, CA</td>\n",
       "      <td>4119.0</td>\n",
       "      <td>858.0</td>\n",
       "      <td>3937.0</td>\n",
       "      <td>865.0</td>\n",
       "      <td>3159.0</td>\n",
       "      <td>832.0</td>\n",
       "      <td>148.0</td>\n",
       "      <td>143.0</td>\n",
       "      <td>...</td>\n",
       "      <td>13.0</td>\n",
       "      <td>36.0</td>\n",
       "      <td>42.0</td>\n",
       "      <td>45.0</td>\n",
       "      <td>58.0</td>\n",
       "      <td>41.0</td>\n",
       "      <td>57.0</td>\n",
       "      <td>4.0</td>\n",
       "      <td>6.0</td>\n",
       "      <td>MULTIPOLYGON (((-118.30334 34.27371, -118.3033...</td>\n",
       "    </tr>\n",
       "    <tr>\n",
       "      <th>3</th>\n",
       "      <td>14000US06037101220</td>\n",
       "      <td>Census Tract 1012.20, Los Angeles, CA</td>\n",
       "      <td>3775.0</td>\n",
       "      <td>474.0</td>\n",
       "      <td>2254.0</td>\n",
       "      <td>228.0</td>\n",
       "      <td>1659.0</td>\n",
       "      <td>280.0</td>\n",
       "      <td>94.0</td>\n",
       "      <td>104.0</td>\n",
       "      <td>...</td>\n",
       "      <td>13.0</td>\n",
       "      <td>586.0</td>\n",
       "      <td>276.0</td>\n",
       "      <td>283.0</td>\n",
       "      <td>276.0</td>\n",
       "      <td>252.0</td>\n",
       "      <td>271.0</td>\n",
       "      <td>31.0</td>\n",
       "      <td>40.0</td>\n",
       "      <td>MULTIPOLYGON (((-118.28593 34.25227, -118.2859...</td>\n",
       "    </tr>\n",
       "    <tr>\n",
       "      <th>4</th>\n",
       "      <td>14000US06037101221</td>\n",
       "      <td>Census Tract 1012.21, Los Angeles, CA</td>\n",
       "      <td>3787.0</td>\n",
       "      <td>651.0</td>\n",
       "      <td>2605.0</td>\n",
       "      <td>585.0</td>\n",
       "      <td>2026.0</td>\n",
       "      <td>553.0</td>\n",
       "      <td>213.0</td>\n",
       "      <td>166.0</td>\n",
       "      <td>...</td>\n",
       "      <td>13.0</td>\n",
       "      <td>580.0</td>\n",
       "      <td>321.0</td>\n",
       "      <td>103.0</td>\n",
       "      <td>111.0</td>\n",
       "      <td>103.0</td>\n",
       "      <td>111.0</td>\n",
       "      <td>0.0</td>\n",
       "      <td>13.0</td>\n",
       "      <td>MULTIPOLYGON (((-118.29945 34.25598, -118.2979...</td>\n",
       "    </tr>\n",
       "  </tbody>\n",
       "</table>\n",
       "<p>5 rows × 45 columns</p>\n",
       "</div>"
      ],
      "text/plain": [
       "                geoid                                   name   B03002001  \\\n",
       "0        05000US06037                 Los Angeles County, CA  10040682.0   \n",
       "1  14000US06037101110  Census Tract 1011.10, Los Angeles, CA      3923.0   \n",
       "2  14000US06037101122  Census Tract 1011.22, Los Angeles, CA      4119.0   \n",
       "3  14000US06037101220  Census Tract 1012.20, Los Angeles, CA      3775.0   \n",
       "4  14000US06037101221  Census Tract 1012.21, Los Angeles, CA      3787.0   \n",
       "\n",
       "   B03002001, Error  B03002002  B03002002, Error  B03002003  B03002003, Error  \\\n",
       "0               0.0  5189338.0               0.0  2603280.0            2899.0   \n",
       "1             460.0     2960.0             376.0     2393.0             353.0   \n",
       "2             858.0     3937.0             865.0     3159.0             832.0   \n",
       "3             474.0     2254.0             228.0     1659.0             280.0   \n",
       "4             651.0     2605.0             585.0     2026.0             553.0   \n",
       "\n",
       "   B03002004  B03002004, Error  ...  B03002017, Error  B03002018  \\\n",
       "0   779166.0            3477.0  ...             529.0  2075359.0   \n",
       "1       17.0              18.0  ...              13.0      260.0   \n",
       "2      148.0             143.0  ...              13.0       36.0   \n",
       "3       94.0             104.0  ...              13.0      586.0   \n",
       "4      213.0             166.0  ...              13.0      580.0   \n",
       "\n",
       "   B03002018, Error  B03002019  B03002019, Error  B03002020  B03002020, Error  \\\n",
       "0           16947.0   470323.0            9898.0   387116.0            9699.0   \n",
       "1             219.0      150.0             129.0      124.0             118.0   \n",
       "2              42.0       45.0              58.0       41.0              57.0   \n",
       "3             276.0      283.0             276.0      252.0             271.0   \n",
       "4             321.0      103.0             111.0      103.0             111.0   \n",
       "\n",
       "   B03002021  B03002021, Error  \\\n",
       "0    83207.0            3161.0   \n",
       "1       26.0              42.0   \n",
       "2        4.0               6.0   \n",
       "3       31.0              40.0   \n",
       "4        0.0              13.0   \n",
       "\n",
       "                                            geometry  \n",
       "0  MULTIPOLYGON (((-118.70339 34.16859, -118.7033...  \n",
       "1  MULTIPOLYGON (((-118.30229 34.25870, -118.3009...  \n",
       "2  MULTIPOLYGON (((-118.30334 34.27371, -118.3033...  \n",
       "3  MULTIPOLYGON (((-118.28593 34.25227, -118.2859...  \n",
       "4  MULTIPOLYGON (((-118.29945 34.25598, -118.2979...  \n",
       "\n",
       "[5 rows x 45 columns]"
      ]
     },
     "execution_count": 7,
     "metadata": {},
     "output_type": "execute_result"
    }
   ],
   "source": [
    "# get first 5 rows\n",
    "gdf.head()"
   ]
  },
  {
   "cell_type": "code",
   "execution_count": 8,
   "metadata": {},
   "outputs": [
    {
     "data": {
      "text/html": [
       "<div>\n",
       "<style scoped>\n",
       "    .dataframe tbody tr th:only-of-type {\n",
       "        vertical-align: middle;\n",
       "    }\n",
       "\n",
       "    .dataframe tbody tr th {\n",
       "        vertical-align: top;\n",
       "    }\n",
       "\n",
       "    .dataframe thead th {\n",
       "        text-align: right;\n",
       "    }\n",
       "</style>\n",
       "<table border=\"1\" class=\"dataframe\">\n",
       "  <thead>\n",
       "    <tr style=\"text-align: right;\">\n",
       "      <th></th>\n",
       "      <th>geoid</th>\n",
       "      <th>name</th>\n",
       "      <th>B03002001</th>\n",
       "      <th>B03002001, Error</th>\n",
       "      <th>B03002002</th>\n",
       "      <th>B03002002, Error</th>\n",
       "      <th>B03002003</th>\n",
       "      <th>B03002003, Error</th>\n",
       "      <th>B03002004</th>\n",
       "      <th>B03002004, Error</th>\n",
       "      <th>...</th>\n",
       "      <th>B03002017, Error</th>\n",
       "      <th>B03002018</th>\n",
       "      <th>B03002018, Error</th>\n",
       "      <th>B03002019</th>\n",
       "      <th>B03002019, Error</th>\n",
       "      <th>B03002020</th>\n",
       "      <th>B03002020, Error</th>\n",
       "      <th>B03002021</th>\n",
       "      <th>B03002021, Error</th>\n",
       "      <th>geometry</th>\n",
       "    </tr>\n",
       "  </thead>\n",
       "  <tbody>\n",
       "    <tr>\n",
       "      <th>1705</th>\n",
       "      <td>14000US06037533501</td>\n",
       "      <td>Census Tract 5335.01, Los Angeles, CA</td>\n",
       "      <td>3077.0</td>\n",
       "      <td>533.0</td>\n",
       "      <td>1.0</td>\n",
       "      <td>3.0</td>\n",
       "      <td>1.0</td>\n",
       "      <td>3.0</td>\n",
       "      <td>0.0</td>\n",
       "      <td>13.0</td>\n",
       "      <td>...</td>\n",
       "      <td>13.0</td>\n",
       "      <td>1428.0</td>\n",
       "      <td>337.0</td>\n",
       "      <td>326.0</td>\n",
       "      <td>361.0</td>\n",
       "      <td>326.0</td>\n",
       "      <td>361.0</td>\n",
       "      <td>0.0</td>\n",
       "      <td>13.0</td>\n",
       "      <td>MULTIPOLYGON (((-118.20416 33.98906, -118.2040...</td>\n",
       "    </tr>\n",
       "  </tbody>\n",
       "</table>\n",
       "<p>1 rows × 45 columns</p>\n",
       "</div>"
      ],
      "text/plain": [
       "                   geoid                                   name  B03002001  \\\n",
       "1705  14000US06037533501  Census Tract 5335.01, Los Angeles, CA     3077.0   \n",
       "\n",
       "      B03002001, Error  B03002002  B03002002, Error  B03002003  \\\n",
       "1705             533.0        1.0               3.0        1.0   \n",
       "\n",
       "      B03002003, Error  B03002004  B03002004, Error  ...  B03002017, Error  \\\n",
       "1705               3.0        0.0              13.0  ...              13.0   \n",
       "\n",
       "      B03002018  B03002018, Error  B03002019  B03002019, Error  B03002020  \\\n",
       "1705     1428.0             337.0      326.0             361.0      326.0   \n",
       "\n",
       "      B03002020, Error  B03002021  B03002021, Error  \\\n",
       "1705             361.0        0.0              13.0   \n",
       "\n",
       "                                               geometry  \n",
       "1705  MULTIPOLYGON (((-118.20416 33.98906, -118.2040...  \n",
       "\n",
       "[1 rows x 45 columns]"
      ]
     },
     "execution_count": 8,
     "metadata": {},
     "output_type": "execute_result"
    }
   ],
   "source": [
    "# get a random row\n",
    "gdf.sample()"
   ]
  },
  {
   "cell_type": "code",
   "execution_count": 9,
   "metadata": {},
   "outputs": [
    {
     "data": {
      "text/plain": [
       "<AxesSubplot:>"
      ]
     },
     "execution_count": 9,
     "metadata": {},
     "output_type": "execute_result"
    },
    {
     "data": {
      "image/png": "[encoded data removed]",
      "text/plain": [
       "<Figure size 720x720 with 1 Axes>"
      ]
     },
     "metadata": {
      "needs_background": "light"
     },
     "output_type": "display_data"
    }
   ],
   "source": [
    "# plot it!\n",
    "gdf.plot(figsize=(10,10))"
   ]
  },
  {
   "cell_type": "code",
   "execution_count": 10,
   "metadata": {},
   "outputs": [
    {
     "data": {
      "text/plain": [
       "<AxesSubplot:>"
      ]
     },
     "execution_count": 10,
     "metadata": {},
     "output_type": "execute_result"
    },
    {
     "data": {
      "image/png": "[encoded data removed]",
      "text/plain": [
       "<Figure size 432x288 with 1 Axes>"
      ]
     },
     "metadata": {
      "needs_background": "light"
     },
     "output_type": "display_data"
    }
   ],
   "source": [
    "# plot a random row\n",
    "gdf.sample().plot()"
   ]
  },
  {
   "cell_type": "markdown",
   "metadata": {},
   "source": [
    " # Data types"
   ]
  },
  {
   "cell_type": "markdown",
   "metadata": {},
   "source": [
    "To get the data types, we will use .info()."
   ]
  },
  {
   "cell_type": "code",
   "execution_count": 11,
   "metadata": {},
   "outputs": [
    {
     "name": "stdout",
     "output_type": "stream",
     "text": [
      "<class 'geopandas.geodataframe.GeoDataFrame'>\n",
      "RangeIndex: 2499 entries, 0 to 2498\n",
      "Data columns (total 45 columns):\n",
      " #   Column            Non-Null Count  Dtype   \n",
      "---  ------            --------------  -----   \n",
      " 0   geoid             2499 non-null   object  \n",
      " 1   name              2499 non-null   object  \n",
      " 2   B03002001         2499 non-null   float64 \n",
      " 3   B03002001, Error  2499 non-null   float64 \n",
      " 4   B03002002         2499 non-null   float64 \n",
      " 5   B03002002, Error  2499 non-null   float64 \n",
      " 6   B03002003         2499 non-null   float64 \n",
      " 7   B03002003, Error  2499 non-null   float64 \n",
      " 8   B03002004         2499 non-null   float64 \n",
      " 9   B03002004, Error  2499 non-null   float64 \n",
      " 10  B03002005         2499 non-null   float64 \n",
      " 11  B03002005, Error  2499 non-null   float64 \n",
      " 12  B03002006         2499 non-null   float64 \n",
      " 13  B03002006, Error  2499 non-null   float64 \n",
      " 14  B03002007         2499 non-null   float64 \n",
      " 15  B03002007, Error  2499 non-null   float64 \n",
      " 16  B03002008         2499 non-null   float64 \n",
      " 17  B03002008, Error  2499 non-null   float64 \n",
      " 18  B03002009         2499 non-null   float64 \n",
      " 19  B03002009, Error  2499 non-null   float64 \n",
      " 20  B03002010         2499 non-null   float64 \n",
      " 21  B03002010, Error  2499 non-null   float64 \n",
      " 22  B03002011         2499 non-null   float64 \n",
      " 23  B03002011, Error  2499 non-null   float64 \n",
      " 24  B03002012         2499 non-null   float64 \n",
      " 25  B03002012, Error  2499 non-null   float64 \n",
      " 26  B03002013         2499 non-null   float64 \n",
      " 27  B03002013, Error  2499 non-null   float64 \n",
      " 28  B03002014         2499 non-null   float64 \n",
      " 29  B03002014, Error  2499 non-null   float64 \n",
      " 30  B03002015         2499 non-null   float64 \n",
      " 31  B03002015, Error  2499 non-null   float64 \n",
      " 32  B03002016         2499 non-null   float64 \n",
      " 33  B03002016, Error  2499 non-null   float64 \n",
      " 34  B03002017         2499 non-null   float64 \n",
      " 35  B03002017, Error  2499 non-null   float64 \n",
      " 36  B03002018         2499 non-null   float64 \n",
      " 37  B03002018, Error  2499 non-null   float64 \n",
      " 38  B03002019         2499 non-null   float64 \n",
      " 39  B03002019, Error  2499 non-null   float64 \n",
      " 40  B03002020         2499 non-null   float64 \n",
      " 41  B03002020, Error  2499 non-null   float64 \n",
      " 42  B03002021         2499 non-null   float64 \n",
      " 43  B03002021, Error  2499 non-null   float64 \n",
      " 44  geometry          2499 non-null   geometry\n",
      "dtypes: float64(42), geometry(1), object(2)\n",
      "memory usage: 878.7+ KB\n"
     ]
    }
   ],
   "source": [
    "# look at columns, null values, and the data types\n",
    "gdf.info()"
   ]
  },
  {
   "cell_type": "markdown",
   "metadata": {},
   "source": [
    "The FIPS code"
   ]
  },
  {
   "cell_type": "code",
   "execution_count": null,
   "metadata": {},
   "outputs": [],
   "source": []
  }
 ],
 "metadata": {
  "kernelspec": {
   "display_name": "Python 3.8.10 64-bit",
   "language": "python",
   "name": "python3"
  },
  "language_info": {
   "codemirror_mode": {
    "name": "ipython",
    "version": 3
   },
   "file_extension": ".py",
   "mimetype": "text/x-python",
   "name": "python",
   "nbconvert_exporter": "python",
   "pygments_lexer": "ipython3",
   "version": "3.8.10"
  },
  "orig_nbformat": 4,
  "vscode": {
   "interpreter": {
    "hash": "916dbcbb3f70747c44a77c7bcd40155683ae19c65e1c03b4aa3499c5328201f1"
   }
  }
 },
 "nbformat": 4,
 "nbformat_minor": 2
}
